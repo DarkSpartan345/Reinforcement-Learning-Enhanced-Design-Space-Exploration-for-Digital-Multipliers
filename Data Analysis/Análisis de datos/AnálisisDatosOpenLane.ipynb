{
 "cells": [
  {
   "cell_type": "markdown",
   "metadata": {
    "id": "D5srQ6TI8T82"
   },
   "source": [
    "# **Análisis de datos del proyecto**"
   ]
  },
  {
   "cell_type": "markdown",
   "metadata": {
    "id": "QMSqvlWH8h-A"
   },
   "source": [
    "En este cuaderno se encuentra el código necesario para analizar tanto los datos de recompensa por episodio, obtenidos con los logs, como las métricas de desempeño de los multiplicadores con un error menor o igual al 10%, obtenidas con OpenLane. La modularización del código responde a los requisitos comunes para ambos análisis, como las librerías utilizadas, y el preprocesamiento de los datos por aparte dependiendo de cuáles datos se desean visualizar."
   ]
  },
  {
   "cell_type": "markdown",
   "metadata": {
    "id": "yOUsfdVpCDVT"
   },
   "source": [
    "## Código común: importación de librerías e inicialización de funciones"
   ]
  },
  {
   "cell_type": "code",
   "execution_count": null,
   "metadata": {
    "colab": {
     "base_uri": "https://localhost:8080/"
    },
    "executionInfo": {
     "elapsed": 820,
     "status": "ok",
     "timestamp": 1755837375403,
     "user": {
      "displayName": "Juan Sebastian Caviedes Bernal",
      "userId": "02109732275110835414"
     },
     "user_tz": 300
    },
    "id": "CNNuDXzLCNGT",
    "outputId": "d2d77649-d8f5-4022-e6e3-47aa648d4f61"
   },
   "outputs": [
    {
     "ename": "",
     "evalue": "",
     "output_type": "error",
     "traceback": [
      "\u001b[1;31mRunning cells with 'Prueba (3.12.3) (Python 3.12.3)' requires the ipykernel package.\n",
      "\u001b[1;31mInstall 'ipykernel' into the Python environment. \n",
      "\u001b[1;31mCommand: '/home/sebastian/Documents/GitHub/Reinforcement-Learning-Enhanced-Design-Space-Exploration-for-Digital-Multipliers/Prueba/bin/python -m pip install ipykernel -U --force-reinstall'"
     ]
    }
   ],
   "source": [
    "import os\n",
    "import glob\n",
    "import re\n",
    "import pandas as pd\n",
    "import matplotlib.pyplot as plt\n",
    "import seaborn as sns\n",
    "import numpy as np\n",
    "from google.colab import drive\n",
    "try:\n",
    "    drive.mount('/content/drive')\n",
    "except Exception:\n",
    "    pass\n",
    "\n",
    "def convertir_a_minutos(tiempo_str: str) -> float:\n",
    "    \"\"\"\n",
    "    Convierte '0h1m21s0ms' a minutos decimales. Acepta '1m', '21s', '350ms', '2h5s', etc.\n",
    "    \"\"\"\n",
    "    if not isinstance(tiempo_str, str):\n",
    "        return 0.0\n",
    "    m = re.fullmatch(r'(?:(\\d+)h)?(?:(\\d+)m)?(?:(\\d+)s)?(?:(\\d+)ms)?', tiempo_str.strip())\n",
    "    if not m:\n",
    "        return 0.0\n",
    "    h, mi, s, ms = (int(x) if x else 0 for x in m.groups())\n",
    "    return h * 60 + mi + s / 60 + ms / 60000\n",
    "\n",
    "def _maybe_mount_drive():\n",
    "    try:\n",
    "        from google.colab import drive as _drive  # type: ignore\n",
    "        if not os.path.ismount(\"/content/drive\"):\n",
    "            _drive.mount(\"/content/drive\", force_remount=False)\n",
    "    except Exception:\n",
    "        # Fuera de Colab, sigue sin montar\n",
    "        pass"
   ]
  },
  {
   "cell_type": "markdown",
   "metadata": {
    "id": "KQFtFM-K7rVD"
   },
   "source": [
    "# Análisis de datos: métricas de los logs"
   ]
  },
  {
   "cell_type": "markdown",
   "metadata": {
    "id": "xHbPDnzn-Gl-"
   },
   "source": [
    "\n",
    "# Análisis de datos: métricas de OpenLane"
   ]
  },
  {
   "cell_type": "markdown",
   "metadata": {
    "id": "B2bEvVQ5-PrT"
   },
   "source": [
    "Para encontrar una correlación entre las características del algoritmo de multiplicación encontrado por la IA (N° de bits y error total del multiplicador) y las métricas de desempeño más relevantes (frecuencia de operación, potencia consumida, área de silicio, N° de compuertas, etc) se utiliza el siguiente código."
   ]
  },
  {
   "cell_type": "markdown",
   "metadata": {
    "id": "CeU1yd8pB7Cj"
   },
   "source": [
    "## Clase OpenLaneAnalyzer"
   ]
  },
  {
   "cell_type": "code",
   "execution_count": null,
   "metadata": {
    "executionInfo": {
     "elapsed": 5,
     "status": "ok",
     "timestamp": 1755837375403,
     "user": {
      "displayName": "Juan Sebastian Caviedes Bernal",
      "userId": "02109732275110835414"
     },
     "user_tz": 300
    },
    "id": "uyiBjA7omJzE"
   },
   "outputs": [],
   "source": [
    "class OpenLaneAnalyzer:\n",
    "    \"\"\"\n",
    "    Carga/combina CSVs, extrae 'error' y prepara:\n",
    "      - raw_data: dataframes sin agrupar\n",
    "      - grouped_data: dataframes agrupados por error\n",
    "    \"\"\"\n",
    "\n",
    "    def __init__(self, folders: list[str], combined_name: str = \"combined_metrics.csv\"):\n",
    "        self.folders = folders\n",
    "        self.combined_name = combined_name\n",
    "        self.df = self._load_or_combine()\n",
    "        self._extract_error()\n",
    "        self.raw_data: dict[str, pd.DataFrame] = {}\n",
    "        self.grouped_data: dict[str, pd.DataFrame] = {}\n",
    "        self._prepare_all()\n",
    "\n",
    "    def _load_or_combine(self) -> pd.DataFrame:\n",
    "        _maybe_mount_drive()\n",
    "\n",
    "        all_csvs = []\n",
    "        for folder in self.folders:\n",
    "            all_csvs.extend(glob.glob(os.path.join(folder, \"*.csv\")))\n",
    "\n",
    "        if not all_csvs:\n",
    "            raise FileNotFoundError(f\"No se encontraron CSVs en: {self.folders}\")\n",
    "\n",
    "        # Si existe combinado, úsalo (toma el de mayor tamaño por seguridad)\n",
    "        combined_candidates = [p for p in all_csvs if os.path.basename(p) == self.combined_name]\n",
    "        if combined_candidates:\n",
    "            path = max(combined_candidates, key=lambda p: os.path.getsize(p))\n",
    "            return pd.read_csv(path)\n",
    "\n",
    "        # Combina, etiqueta origen y elimina duplicados si hay clave común\n",
    "        dfs = []\n",
    "        for f in sorted(all_csvs):\n",
    "            df = pd.read_csv(f)\n",
    "            df[\"__source_file__\"] = os.path.basename(f)\n",
    "            dfs.append(df)\n",
    "\n",
    "        combined = pd.concat(dfs, ignore_index=True)\n",
    "        combined.drop_duplicates(inplace=True)  # opcional: añade subset=['design_name', ...] si aplica\n",
    "\n",
    "        out = os.path.join(self.folders[0], self.combined_name)\n",
    "        os.makedirs(self.folders[0], exist_ok=True)\n",
    "        combined.to_csv(out, index=False)\n",
    "        print(f\"Guardado combinado en {out}: {len(combined)} filas.\")\n",
    "        return combined\n",
    "\n",
    "\n",
    "    def _extract_error(self):\n",
    "        # admite .../e10, .../E_10, .../err10 (flexible pero claro)\n",
    "        pattern = r\"(?i)(?:^|[_-])e(?:rr)?_?(\\d+)$\"\n",
    "        names = self.df[\"design_name\"].astype(str).str.strip()\n",
    "        extracted = names.str.extract(pattern, expand=False)\n",
    "\n",
    "        if extracted.isna().any():\n",
    "            faltantes = names[extracted.isna()].unique().tolist()\n",
    "            raise ValueError(\n",
    "                \"design_name sin sufijo de error esperado. Ejemplos válidos: foo_e10, bar_e_5, baz_err12. \"\n",
    "                f\"Ajusta o mapea estos nombres: {faltantes}\"\n",
    "            )\n",
    "        self.df[\"error\"] = extracted.astype(int)\n",
    "\n",
    "\n",
    "    def _prepare_all(self):\n",
    "        self._prepare_area()\n",
    "        self._prepare_power(case=\"slowest\", label=\"Potencia Lenta\")\n",
    "        self._prepare_power(case=\"typical\", label=\"Potencia Típica\")\n",
    "        self._prepare_power(case=\"fastest\", label=\"Potencia Rápida\")\n",
    "        self._prepare_path()\n",
    "        self._prepare_gates()\n",
    "        self._prepare_time()\n",
    "\n",
    "    def _register_grouped(self, key: str, df: pd.DataFrame, agg_map: dict | None = None):\n",
    "        agg_map = agg_map or {c: [\"mean\", \"median\", \"std\", \"min\", \"max\", \"count\"]\n",
    "                              for c in df.columns if c != \"error\"}\n",
    "        g = df.groupby(\"error\").agg(agg_map)\n",
    "        # aplanar columnas MultiIndex: p.ej., 'critical_path_ns_mean'\n",
    "        g.columns = [f\"{col}_{stat}\" for col, stat in g.columns]\n",
    "        g = g.reset_index()\n",
    "        self.grouped_data[key] = g\n",
    "\n",
    "    def _prepare_area(self):\n",
    "        area_cols = [\"error\", \"DIEAREA_mm^2\", \"CoreArea_um^2\", \"CellPer_mm^2\", \"(Cell/mm^2)/Core_Util\"]\n",
    "        df = self.df[area_cols].copy()\n",
    "        self.raw_data[\"Area\"] = df\n",
    "        self._register_grouped(\"Area\", df)\n",
    "\n",
    "\n",
    "    def _prepare_power(self, case: str, label: str):\n",
    "        power_cols = [\n",
    "            f\"power_{case}_internal_uW\",\n",
    "            f\"power_{case}_switching_uW\",\n",
    "            f\"power_{case}_leakage_uW\",\n",
    "        ]\n",
    "        df = self.df[[\"error\", *power_cols]].copy()\n",
    "        df[f\"power_{case}_sum\"] = df[power_cols].sum(axis=1)\n",
    "        self.raw_data[label] = df\n",
    "        self._register_grouped(label, df)\n",
    "\n",
    "    def _prepare_path(self):#\"error\", \"critical_path_ns\", \"level\"\n",
    "        path_cols = [\"error\", \"critical_path_ns\", \"level\"]\n",
    "        df = self.df[path_cols].copy()\n",
    "        self.raw_data[\"Camino\"] = df\n",
    "        self._register_grouped(\"Camino\", df)\n",
    "\n",
    "    def _prepare_gates(self):\n",
    "        gate_cols = [\"AND\", \"NAND\", \"NOR\", \"OR\", \"XOR\", \"XNOR\", \"MUX\", \"synth_cell_count\", \"TotalCells\"]\n",
    "        df = self.df[[\"error\", *gate_cols]].copy()\n",
    "        self.raw_data[\"Compuertas\"] = df\n",
    "        self._register_grouped(\"Compuertas\", df)\n",
    "\n",
    "    def _prepare_time(self):\n",
    "        df = self.df[[\"error\", \"total_runtime\", \"routed_runtime\"]].copy()\n",
    "        df[\"total_runtime\"] = df[\"total_runtime\"].apply(convertir_a_minutos)\n",
    "        df[\"routed_runtime\"] = df[\"routed_runtime\"].apply(convertir_a_minutos)\n",
    "        self.raw_data[\"Flujo\"] = df\n",
    "        self._register_grouped(\"Flujo\", df)"
   ]
  },
  {
   "cell_type": "markdown",
   "metadata": {
    "id": "VwSXbggMCm9C"
   },
   "source": [
    "## Código común: Clase Plotter"
   ]
  },
  {
   "cell_type": "code",
   "execution_count": null,
   "metadata": {
    "executionInfo": {
     "elapsed": 26,
     "status": "ok",
     "timestamp": 1755837375426,
     "user": {
      "displayName": "Juan Sebastian Caviedes Bernal",
      "userId": "02109732275110835414"
     },
     "user_tz": 300
    },
    "id": "kR7LttntCjZb"
   },
   "outputs": [],
   "source": [
    "class Plotter:\n",
    "    \"\"\"\n",
    "    Toma un OpenLaneAnalyzer y grafica líneas o dispersión.\n",
    "    Cada traza es un dict con:\n",
    "      - tipo: clave en analyzer.grouped_data/raw_data\n",
    "      - x, y: nombres de columnas\n",
    "      - color, label (opcional)\n",
    "    \"\"\"\n",
    "\n",
    "    def __init__(self, analyzer: OpenLaneAnalyzer):\n",
    "        self.raw = analyzer.raw_data\n",
    "        self.grp = analyzer.grouped_data\n",
    "        sns.set(style=\"whitegrid\")\n",
    "\n",
    "    def plot_lines(\n",
    "        self,\n",
    "        traces: list[dict],\n",
    "        title: str,\n",
    "        xlabel: str,\n",
    "        ylabel: str,\n",
    "        figsize: tuple[int, int] = (8, 4),\n",
    "    ):\n",
    "        plt.figure(figsize=figsize)\n",
    "        for t in traces:\n",
    "            df = self.grp[t[\"tipo\"]]\n",
    "            plt.plot(\n",
    "                df[t[\"x\"]], df[t[\"y\"]],\n",
    "                marker=\"o\",\n",
    "                color=t[\"color\"],\n",
    "                label=t.get(\"label\"),\n",
    "            )\n",
    "        if any(t.get(\"label\") for t in traces):\n",
    "            plt.legend()\n",
    "        plt.title(title)\n",
    "        plt.xlabel(xlabel)\n",
    "        plt.ylabel(ylabel)\n",
    "        plt.tight_layout()\n",
    "        plt.grid(True)\n",
    "        plt.show()\n",
    "\n",
    "    def plot_scatter(\n",
    "        self,\n",
    "        traces: list[dict],\n",
    "        title: str,\n",
    "        xlabel: str,\n",
    "        ylabel: str,\n",
    "        figsize: tuple[int, int] = (8, 4),\n",
    "        tendency: bool = False,\n",
    "        logX: bool = False,\n",
    "        logY: bool = False,\n",
    "    ):\n",
    "        \"\"\"\n",
    "        Grafica dispersión; si tendency=True, agrega línea de tendencia (regresión lineal)\n",
    "        por cada traza, con el mismo color.\n",
    "        \"\"\"\n",
    "        plt.figure(figsize=figsize)\n",
    "        ax = plt.gca()\n",
    "        for t in traces:\n",
    "            df = self.raw[t[\"tipo\"]]\n",
    "            # Puntos de dispersión\n",
    "            if (not logX) and (not logY):\n",
    "                plt.scatter(\n",
    "                    df[t[\"x\"]], df[t[\"y\"]],\n",
    "                    color=t[\"color\"],\n",
    "                    marker=\"o\",\n",
    "                    label=t.get(\"label\")\n",
    "                )\n",
    "            elif logY and logX:\n",
    "                plt.loglog(\n",
    "                    df[t[\"x\"]], df[t[\"y\"]],\n",
    "                    color=t[\"color\"],\n",
    "                    marker=\"o\",\n",
    "                    label=t.get(\"label\")\n",
    "                )\n",
    "            elif logX:\n",
    "                plt.semilogx(\n",
    "                    df[t[\"x\"]], df[t[\"y\"]],\n",
    "                    color=t[\"color\"],\n",
    "                    marker=\"o\",\n",
    "                    label=t.get(\"label\")\n",
    "                )\n",
    "            elif logY:\n",
    "                plt.semilogy(\n",
    "                    df[t[\"x\"]], df[t[\"y\"]],\n",
    "                    color=t[\"color\"],\n",
    "                    marker=\"o\",\n",
    "                    label=t.get(\"label\")\n",
    "                )\n",
    "            # Línea de tendencia opcional\n",
    "\n",
    "            if tendency and logX:\n",
    "                df_temp = df.copy()\n",
    "                df_temp[t[\"x\"]] = np.log10(df_temp[t[\"x\"]])\n",
    "                sns.regplot(\n",
    "                    x=df_temp[t[\"x\"]],\n",
    "                    y=df_temp[t[\"y\"]],\n",
    "                    scatter=False,\n",
    "                    ci=None,\n",
    "                    color=t[\"color\"],\n",
    "                    line_kws={\"linewidth\": 2, \"alpha\": 0.9},\n",
    "                    ax=ax,\n",
    "                )\n",
    "            elif tendency and logY:\n",
    "                df_temp = df.copy()\n",
    "                df_temp[t[\"y\"]] = np.log10(df_temp[t[\"y\"]])\n",
    "                sns.regplot(\n",
    "                    x=df_temp[t[\"x\"]],\n",
    "                    y=df_temp[t[\"y\"]],\n",
    "                    scatter=False,\n",
    "                    ci=None,\n",
    "                    color=t[\"color\"],\n",
    "                    line_kws={\"linewidth\": 2, \"alpha\": 0.9},\n",
    "                    ax=ax,\n",
    "                )\n",
    "            elif tendency:\n",
    "                sns.regplot(\n",
    "                    x=df[t[\"x\"]],\n",
    "                    y=df[t[\"y\"]],\n",
    "                    scatter=False,\n",
    "                    ci=None,\n",
    "                    color=t[\"color\"],\n",
    "                    line_kws={\"linewidth\": 2, \"alpha\": 0.9},\n",
    "                    ax=ax,\n",
    "                )\n",
    "        if any(t.get(\"label\") for t in traces):\n",
    "            plt.legend()\n",
    "        plt.title(title)\n",
    "        plt.xlabel(xlabel)\n",
    "        plt.ylabel(ylabel)\n",
    "        plt.tight_layout()\n",
    "        plt.grid(True)\n",
    "        plt.show()"
   ]
  },
  {
   "cell_type": "markdown",
   "metadata": {
    "id": "vqP5d7unDDh-"
   },
   "source": [
    "## Clase Main"
   ]
  },
  {
   "cell_type": "code",
   "execution_count": null,
   "metadata": {
    "colab": {
     "base_uri": "https://localhost:8080/",
     "height": 1000
    },
    "collapsed": true,
    "executionInfo": {
     "elapsed": 938,
     "status": "ok",
     "timestamp": 1755837376365,
     "user": {
      "displayName": "Juan Sebastian Caviedes Bernal",
      "userId": "02109732275110835414"
     },
     "user_tz": 300
    },
    "id": "eBzW9VCsDBHz",
    "outputId": "4dc7d923-b74b-416c-92f8-3b26753394e2"
   },
   "outputs": [],
   "source": [
    "if __name__ == \"__main__\":\n",
    "    # Define las carpetas donde buscar CSVs\n",
    "    carpetas = [\n",
    "        \"/content/drive/MyDrive/Reinforcement Learning Multiplicadores/Análisis de datos/Métricas OpenLane/Métricas - Verilogs Únicos\"\n",
    "    ]\n",
    "\n",
    "    analyzer = OpenLaneAnalyzer(carpetas)\n",
    "    plotter = Plotter(analyzer)\n",
    "\n",
    "    # Dispersión de Celdas por mm2 vs Error (Cell/mm^2)/Core_Util\n",
    "    plotter.plot_scatter(\n",
    "        traces=[#{\"tipo\": \"Area\", \"x\": \"error\", \"y\": \"CellPer_mm^2\", \"color\": \"blue\"},\n",
    "                {\"tipo\": \"Area\", \"x\": \"error\", \"y\": \"(Cell/mm^2)/Core_Util\", \"color\": \"green\"},\n",
    "                #{\"tipo\": \"Area\", \"x\": \"error\", \"y\": \"CoreArea_um^2\", \"color\": \"red\"}\n",
    "                ],\n",
    "        title=\"Error (%) vs. Celdas por mm²\",\n",
    "        xlabel=\"Error (%)\",\n",
    "        ylabel=\"Celdas por mm²\",\n",
    "        tendency=False\n",
    "    )\n",
    "\n",
    "    #Disperisón de todos los tipos de celdas\n",
    "    plotter.plot_scatter(\n",
    "        traces=[\n",
    "            #{\"tipo\": \"Compuertas\",  \"x\": \"error\", \"y\": \"AND\", \"color\": \"blue\",  \"label\": \"AND\"},\n",
    "            #{\"tipo\": \"Compuertas\",  \"x\": \"error\", \"y\": \"NAND\",  \"color\": \"green\", \"label\": \"NAND\"},\n",
    "            #{\"tipo\": \"Compuertas\",  \"x\": \"error\", \"y\": \"OR\", \"color\": \"red\",   \"label\": \"OR\"},\n",
    "            #{\"tipo\": \"Compuertas\",  \"x\": \"error\", \"y\": \"NOR\", \"color\": \"cyan\",   \"label\": \"NOR\"},\n",
    "            #{\"tipo\": \"Compuertas\",  \"x\": \"error\", \"y\": \"XOR\", \"color\": \"magenta\",   \"label\": \"XOR\"},\n",
    "            #{\"tipo\": \"Compuertas\",  \"x\": \"error\", \"y\": \"XNOR\", \"color\": \"yellow\",   \"label\": \"XNOR\"},\n",
    "            #{\"tipo\": \"Compuertas\",  \"x\": \"error\", \"y\": \"MUX\", \"color\": \"blue\",   \"label\": \"MUX\"},\n",
    "            #{\"tipo\": \"Compuertas\",  \"x\": \"error\", \"y\": \"synth_cell_count\", \"color\": \"blue\",   \"label\": \"Synth cells\"},\n",
    "            {\"tipo\": \"Compuertas\",  \"x\": \"error\", \"y\": \"TotalCells\", \"color\": \"red\",   \"label\": \"Total Cells\"}\n",
    "        ],\n",
    "        title=\"Error (%) vs. N° de compuertas\",\n",
    "        xlabel=\"Error (%)\",\n",
    "        ylabel=\"N° de compuertas\",\n",
    "        tendency=False\n",
    "    )\n",
    "\n",
    "    # Comparación de potencia interna en los 3 casos\n",
    "    plotter.plot_scatter(\n",
    "        traces=[\n",
    "            #{\"tipo\": \"Potencia Lenta\",   \"x\": \"error\", \"y\": \"power_slowest_internal_uW\", \"color\": \"blue\",  \"label\": \"Lento\"},\n",
    "            {\"tipo\": \"Potencia Típica\",  \"x\": \"error\", \"y\": \"power_typical_internal_uW\",  \"color\": \"green\", \"label\": \"Típico\"},\n",
    "            #{\"tipo\": \"Potencia Rápida\",  \"x\": \"error\", \"y\": \"power_fastest_internal_uW\", \"color\": \"red\",   \"label\": \"Caso Rápido\"},\n",
    "        ],\n",
    "        title=\"Error (%) vs. Potencia Interna\",\n",
    "        xlabel=\"Error (%)\",\n",
    "        ylabel=\"Potencia interna (µW)\",\n",
    "        tendency=False\n",
    "    )\n",
    "\n",
    "    # Línea de timing vs error\n",
    "    plotter.plot_scatter(\n",
    "        traces=[#{\"tipo\": \"Camino\", \"x\": \"error\", \"y\": \"critical_path_ns\", \"color\": \"red\"},\n",
    "                {\"tipo\": \"Camino\", \"x\": \"error\", \"y\": \"level\", \"color\": \"red\"}],\n",
    "        title=\"Error (%) vs. Camino crítico (ns)\",\n",
    "        xlabel=\"Error (%)\",\n",
    "        ylabel=\"Camino crítico (ns)\",\n",
    "        tendency = False\n",
    "    )\n",
    "\n",
    "    # Línea de tiempo total de flujo vs error\n",
    "    plotter.plot_scatter(\n",
    "        traces=[{\"tipo\": \"Flujo\", \"x\": \"error\", \"y\": \"total_runtime\", \"color\": \"purple\"}],\n",
    "        title=\"Error (%) vs. Tiempo Total (min)\",\n",
    "        xlabel=\"Error (%)\",\n",
    "        ylabel=\"Tiempo total (minutos)\",\n",
    "        tendency = False\n",
    "    )\n"
   ]
  },
  {
   "cell_type": "code",
   "execution_count": null,
   "metadata": {
    "colab": {
     "base_uri": "https://localhost:8080/",
     "height": 868
    },
    "executionInfo": {
     "elapsed": 17,
     "status": "ok",
     "timestamp": 1755837376396,
     "user": {
      "displayName": "Juan Sebastian Caviedes Bernal",
      "userId": "02109732275110835414"
     },
     "user_tz": 300
    },
    "id": "aco-JUdxvdf1",
    "outputId": "d2e12e2d-ce57-4bde-f7f4-dd60e2650106"
   },
   "outputs": [],
   "source": [
    "#plotter.grp['Area']\n",
    "#plotter.raw['Area']\n",
    "abcd=(plotter.raw['Compuertas']['TotalCells']/plotter.raw['Area']['CellPer_mm^2'])*1000000\n",
    "abcd"
   ]
  },
  {
   "cell_type": "code",
   "execution_count": null,
   "metadata": {
    "colab": {
     "base_uri": "https://localhost:8080/",
     "height": 833
    },
    "executionInfo": {
     "elapsed": 53,
     "status": "ok",
     "timestamp": 1755837376451,
     "user": {
      "displayName": "Juan Sebastian Caviedes Bernal",
      "userId": "02109732275110835414"
     },
     "user_tz": 300
    },
    "id": "FRY89nuLwBCo",
    "outputId": "dd6764d8-2536-40da-a716-6fdbc607c5de"
   },
   "outputs": [],
   "source": [
    "#plotter.grp['Potencia Típica']\n",
    "plotter.raw['Potencia Típica']*1000*1000"
   ]
  },
  {
   "cell_type": "code",
   "execution_count": null,
   "metadata": {
    "colab": {
     "base_uri": "https://localhost:8080/",
     "height": 833
    },
    "executionInfo": {
     "elapsed": 33,
     "status": "ok",
     "timestamp": 1755837376518,
     "user": {
      "displayName": "Juan Sebastian Caviedes Bernal",
      "userId": "02109732275110835414"
     },
     "user_tz": 300
    },
    "id": "8W4vsJxoxBt-",
    "outputId": "81c9c90c-2147-4cd6-fb9a-3c6e9ff0da8e"
   },
   "outputs": [],
   "source": [
    "#plotter.grp['Camino']\n",
    "plotter.raw['Camino']"
   ]
  },
  {
   "cell_type": "code",
   "execution_count": null,
   "metadata": {
    "colab": {
     "base_uri": "https://localhost:8080/",
     "height": 868
    },
    "executionInfo": {
     "elapsed": 56,
     "status": "ok",
     "timestamp": 1755837376573,
     "user": {
      "displayName": "Juan Sebastian Caviedes Bernal",
      "userId": "02109732275110835414"
     },
     "user_tz": 300
    },
    "id": "xpn4gxVitm46",
    "outputId": "c4bb5473-1a4e-4665-b78b-233d834df1e2"
   },
   "outputs": [],
   "source": [
    "#plotter.grp['Compuertas']\n",
    "#plotter.raw['Compuertas']\n",
    "plotter.raw['Compuertas']['TotalCells']"
   ]
  },
  {
   "cell_type": "code",
   "execution_count": null,
   "metadata": {
    "colab": {
     "base_uri": "https://localhost:8080/",
     "height": 833
    },
    "executionInfo": {
     "elapsed": 28,
     "status": "ok",
     "timestamp": 1755837376623,
     "user": {
      "displayName": "Juan Sebastian Caviedes Bernal",
      "userId": "02109732275110835414"
     },
     "user_tz": 300
    },
    "id": "WqYi_aSpwWCL",
    "outputId": "8174a2be-0b67-4275-ad55-ef6d0b6d9549"
   },
   "outputs": [],
   "source": [
    "#plotter.grp['Flujo']\n",
    "plotter.raw['Flujo']"
   ]
  }
 ],
 "metadata": {
  "colab": {
   "provenance": []
  },
  "kernelspec": {
   "display_name": "Prueba (3.12.3)",
   "language": "python",
   "name": "python3"
  },
  "language_info": {
   "name": "python",
   "version": "3.12.3"
  }
 },
 "nbformat": 4,
 "nbformat_minor": 0
}
