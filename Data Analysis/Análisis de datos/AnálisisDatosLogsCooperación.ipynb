{
 "cells": [
  {
   "cell_type": "markdown",
   "metadata": {
    "id": "D5srQ6TI8T82"
   },
   "source": [
    "# **Análisis de datos del proyecto**"
   ]
  },
  {
   "cell_type": "markdown",
   "metadata": {
    "id": "QMSqvlWH8h-A"
   },
   "source": [
    "En este cuaderno se encuentra el código necesario para analizar tanto los datos de recompensa por episodio, obtenidos con los logs, como las métricas de desempeño de los multiplicadores con un error menor o igual al 10%, obtenidas con OpenLane. La modularización del código responde a los requisitos comunes para ambos análisis, como las librerías utilizadas, y el preprocesamiento de los datos por aparte dependiendo de cuáles datos se desean visualizar."
   ]
  },
  {
   "cell_type": "markdown",
   "metadata": {
    "id": "yOUsfdVpCDVT"
   },
   "source": [
    "## Código común: importación de librerías e inicialización de funciones"
   ]
  },
  {
   "cell_type": "code",
   "execution_count": 3,
   "metadata": {
    "colab": {
     "background_save": true,
     "base_uri": "https://localhost:8080/"
    },
    "executionInfo": {
     "elapsed": 72485,
     "status": "ok",
     "timestamp": 1756226722065,
     "user": {
      "displayName": "Juan Sebastian Caviedes Bernal",
      "userId": "02109732275110835414"
     },
     "user_tz": 0
    },
    "id": "CNNuDXzLCNGT"
   },
   "outputs": [],
   "source": [
    "import os\n",
    "import glob\n",
    "import re\n",
    "from datetime import datetime\n",
    "import pandas as pd\n",
    "import matplotlib.pyplot as plt\n",
    "import seaborn as sns\n",
    "try:\n",
    "    from google.colab import drive\n",
    "except Exception:\n",
    "    pass\n",
    "try:\n",
    "    drive.mount('/content/drive')\n",
    "except Exception:\n",
    "    pass\n",
    "\n",
    "\n",
    "def convertir_a_minutos(tiempo_str: str) -> float:\n",
    "    \"\"\"Convierte '0h1m21s0ms' a minutos decimales.\"\"\"\n",
    "    pattern = r'(?:(\\d+)h)?(?:(\\d+)m)?(?:(\\d+)s)?(?:(\\d+)ms)?'\n",
    "    m = re.match(pattern, tiempo_str)\n",
    "    if not m:\n",
    "        return 0.0\n",
    "    hs, ms, ss, mls = (int(m.group(i) or 0) for i in range(1, 5))\n",
    "    return hs * 60 + ms + ss / 60 + mls / 60000"
   ]
  },
  {
   "cell_type": "markdown",
   "metadata": {
    "id": "KQFtFM-K7rVD"
   },
   "source": [
    "# Análisis de datos: métricas de los logs"
   ]
  },
  {
   "cell_type": "code",
   "execution_count": 4,
   "metadata": {
    "colab": {
     "background_save": true
    },
    "executionInfo": {
     "elapsed": 50,
     "status": "ok",
     "timestamp": 1756226722081,
     "user": {
      "displayName": "Juan Sebastian Caviedes Bernal",
      "userId": "02109732275110835414"
     },
     "user_tz": 0
    },
    "id": "RNZt_zXTNFpU"
   },
   "outputs": [],
   "source": [
    "class LogAnalyzer:\n",
    "    \"\"\"\n",
    "    Parsea recursivamente carpetas de logs, extrae:\n",
    "      - raw_df: episodio a episodio\n",
    "      - summary_df: por worker_id (métrica agregada)\n",
    "      - summary: dict con vistas adicionales tipo Logs_<nombre>_Summary y Logs_<nombre>_WorkerSummary\n",
    "    \"\"\"\n",
    "\n",
    "    _fname_rx = re.compile(r\"log_\\d{4}-\\d{2}-\\d{2}(?:_[^_]+)?_worker_(\\d+)\\.txt$\")\n",
    "    _line_rx  = re.compile(\n",
    "        r\"Episode\\s+(\\d+)\\s+actualizó.*recompensa:\\s*([-\\d\\.]+)\\s*con error medio:([-\\d\\.]+)\"\n",
    "    )\n",
    "    _time_fmt = \"%Y-%m-%d %H:%M:%S,%f\"\n",
    "\n",
    "    def __init__(self, folders: list[str], nombre: str):\n",
    "        self.folders   = folders\n",
    "        self.nombre    = nombre\n",
    "        self.log_files = self._gather_log_files()\n",
    "\n",
    "        self.run_times: dict[int, tuple[datetime, datetime]] = {}\n",
    "        self._raw_records: list[tuple[int,int,float,float]] = []\n",
    "\n",
    "        self._parse_all_logs()\n",
    "\n",
    "        # ▫️ Episodio a episodio\n",
    "        self.raw_df = pd.DataFrame(\n",
    "            self._raw_records,\n",
    "            columns=[\"worker_id\", \"episode\", \"reward\", \"error_mean\"]\n",
    "        )\n",
    "\n",
    "        # ▫️ Vista agregada por worker\n",
    "        self.summary_df = self._aggregate_summary_df()\n",
    "\n",
    "        # ▫️ Diccionario con vistas listas para Plotter\n",
    "        self.summary = self._generate_named_views()\n",
    "\n",
    "    def _gather_log_files(self) -> list[str]:\n",
    "        files = []\n",
    "        for base in self.folders:\n",
    "            pattern = os.path.join(base, \"**\", \"log_*.txt\")\n",
    "            files.extend(glob.glob(pattern, recursive=True))\n",
    "        return files\n",
    "\n",
    "    def _parse_file(self, path: str):\n",
    "        fn = os.path.basename(path)\n",
    "        m0 = self._fname_rx.search(fn)\n",
    "        if not m0:\n",
    "            raise ValueError(f\"Nombre inesperado: {path}\")\n",
    "        wid = int(m0.group(1))\n",
    "\n",
    "        t0 = None\n",
    "        tf = None\n",
    "        local_recs = []\n",
    "\n",
    "        with open(path, \"r\", encoding=\"utf-8\") as f:\n",
    "            for raw in f:\n",
    "                ts_str = raw.split(\" - \",1)[0]\n",
    "                try:\n",
    "                    ts = datetime.strptime(ts_str, self._time_fmt)\n",
    "                    t0 = t0 or ts\n",
    "                    tf = ts\n",
    "                except:\n",
    "                    pass\n",
    "\n",
    "                m = self._line_rx.search(raw)\n",
    "                if m:\n",
    "                    ep  = int(m.group(1))\n",
    "                    rw  = float(m.group(2))\n",
    "                    err = float(m.group(3))\n",
    "                    local_recs.append((wid, ep, rw, err))\n",
    "\n",
    "        if t0 and tf:\n",
    "            self.run_times[wid] = (t0, tf)\n",
    "\n",
    "        self._raw_records.extend(local_recs)\n",
    "\n",
    "    def _parse_all_logs(self):\n",
    "        for path in self.log_files:\n",
    "            self._parse_file(path)\n",
    "\n",
    "    def _aggregate_summary_df(self) -> pd.DataFrame:\n",
    "        if not self.raw_df.empty:\n",
    "            grp = self.raw_df.groupby(\"worker_id\",group_keys=False)\n",
    "            df0 = pd.DataFrame({\n",
    "                \"update_count\": grp[\"episode\"].count(),\n",
    "                \"min_error\": grp[\"error_mean\"].min(),\n",
    "                \"episode_of_min_error\": grp.apply(\n",
    "                    lambda g: int(g.loc[g[\"error_mean\"].idxmin(), \"episode\"]),include_groups=False\n",
    "                )\n",
    "            }).reset_index()\n",
    "        else:\n",
    "            df0 = pd.DataFrame(columns=[\n",
    "                \"worker_id\", \"update_count\", \"min_error\", \"episode_of_min_error\"\n",
    "            ])\n",
    "\n",
    "        all_ids = sorted(self.run_times.keys())\n",
    "        df0 = df0.set_index(\"worker_id\").reindex(all_ids).reset_index()\n",
    "\n",
    "        df0[\"update_count\"] = df0[\"update_count\"].fillna(0).astype(int)\n",
    "        max_err = df0[\"min_error\"].max(skipna=True)\n",
    "        df0[\"min_error\"] = df0[\"min_error\"].fillna(max_err)\n",
    "\n",
    "        df0[\"total_time_min\"] = df0[\"worker_id\"].map(\n",
    "            lambda w: (self.run_times[w][1] - self.run_times[w][0]).total_seconds()/60\n",
    "        )\n",
    "\n",
    "        return df0[[\n",
    "            \"worker_id\", \"update_count\", \"min_error\",\n",
    "            \"episode_of_min_error\", \"total_time_min\"\n",
    "        ]]\n",
    "\n",
    "    def _generate_named_views(self) -> dict:\n",
    "        named_views = {}\n",
    "\n",
    "        # ▫️ Vista por episodio\n",
    "        ep_df = self.raw_df[[\"episode\", \"error_mean\"]].dropna().sort_values(by=\"episode\").reset_index(drop=True)\n",
    "        named_views[f\"Logs_{self.nombre}_Summary\"] = ep_df\n",
    "\n",
    "        # ▫️ Vista agregada por worker\n",
    "        named_views[f\"Logs_{self.nombre}_WorkerSummary\"] = self.summary_df\n",
    "\n",
    "        return named_views\n"
   ]
  },
  {
   "cell_type": "markdown",
   "metadata": {
    "id": "xHbPDnzn-Gl-"
   },
   "source": [
    "\n",
    "# Análisis de datos: métricas de OpenLane"
   ]
  },
  {
   "cell_type": "markdown",
   "metadata": {
    "id": "B2bEvVQ5-PrT"
   },
   "source": [
    "Para encontrar una correlación entre las características del algoritmo de multiplicación encontrado por la IA (N° de bits y error total del multiplicador) y las métricas de desempeño más relevantes (frecuencia de operación, potencia consumida, área de silicio, N° de compuertas, etc) se utiliza el siguiente código."
   ]
  },
  {
   "cell_type": "markdown",
   "metadata": {
    "id": "CeU1yd8pB7Cj"
   },
   "source": [
    "## Clase OpenLaneAnalyzer"
   ]
  },
  {
   "cell_type": "code",
   "execution_count": 5,
   "metadata": {
    "colab": {
     "background_save": true
    },
    "executionInfo": {
     "elapsed": 17,
     "status": "ok",
     "timestamp": 1756226722098,
     "user": {
      "displayName": "Juan Sebastian Caviedes Bernal",
      "userId": "02109732275110835414"
     },
     "user_tz": 0
    },
    "id": "uyiBjA7omJzE"
   },
   "outputs": [],
   "source": [
    "class OpenLaneAnalyzer:\n",
    "    \"\"\"\n",
    "    Carga/combina CSVs, extrae 'error' y prepara:\n",
    "      - raw_data: dataframes sin agrupar\n",
    "      - grouped_data: dataframes agrupados por error\n",
    "    \"\"\"\n",
    "\n",
    "    def __init__(self, folders: list[str], combined_name: str = \"combined_metrics.csv\"):\n",
    "        self.folders = folders\n",
    "        self.combined_name = combined_name\n",
    "        #self.df = self._load_or_combine()\n",
    "        #self._extract_error()\n",
    "        self.raw_data: dict[str, pd.DataFrame] = {}\n",
    "        self.grouped_data: dict[str, pd.DataFrame] = {}\n",
    "        #self._prepare_all()"
   ]
  },
  {
   "cell_type": "markdown",
   "metadata": {
    "id": "VwSXbggMCm9C"
   },
   "source": [
    "## Código común: Clase Plotter"
   ]
  },
  {
   "cell_type": "code",
   "execution_count": 6,
   "metadata": {
    "colab": {
     "background_save": true
    },
    "executionInfo": {
     "elapsed": 0,
     "status": "ok",
     "timestamp": 1756226722115,
     "user": {
      "displayName": "Juan Sebastian Caviedes Bernal",
      "userId": "02109732275110835414"
     },
     "user_tz": 0
    },
    "id": "kR7LttntCjZb"
   },
   "outputs": [],
   "source": [
    "class Plotter:\n",
    "    \"\"\"\n",
    "    Toma un OpenLaneAnalyzer y grafica líneas o dispersión.\n",
    "    Cada traza es un dict con:\n",
    "      - tipo: clave en analyzer.grouped_data/raw_data\n",
    "      - x, y: nombres de columnas\n",
    "      - color, label (opcional)\n",
    "    \"\"\"\n",
    "\n",
    "    def __init__(self, analyzer: OpenLaneAnalyzer):\n",
    "        self.raw = analyzer.raw_data\n",
    "        self.grp = analyzer.grouped_data\n",
    "        self.summary = {}\n",
    "        sns.set(style=\"whitegrid\")\n",
    "\n",
    "    def plot_lines(\n",
    "        self,\n",
    "        traces: list[dict],\n",
    "        title: str,\n",
    "        xlabel: str,\n",
    "        ylabel: str,\n",
    "        name: str,\n",
    "        log: bool,\n",
    "        figsize: tuple[int, int] = (4, 3),\n",
    "    ):\n",
    "        fig=plt.figure(figsize=figsize)\n",
    "        for t in traces:\n",
    "            df = self.grp[t[\"tipo\"]]\n",
    "            df= df.groupby('episode', as_index=False)['error_mean'].min()\n",
    "            mask = df['error_mean'].cummin() == df['error_mean']\n",
    "            # Aplicar la máscara para filtrar el DataFrame\n",
    "            df= df[mask].reset_index(drop=True)\n",
    "            if not log:\n",
    "              plt.plot(\n",
    "                  df[t[\"x\"]], df[t[\"y\"]],\n",
    "                  marker=\"o\",\n",
    "                  color=t[\"color\"],\n",
    "                  label=t.get(\"label\"),\n",
    "              )\n",
    "              x= df[t[\"x\"]]\n",
    "              label=t.get(\"label\")\n",
    "              print(f\"Longitud de {label}: \" + str(len(x)))\n",
    "            else:\n",
    "              plt.semilogx(\n",
    "                  df[t[\"x\"]], df[t[\"y\"]],\n",
    "                  marker=\"o\",\n",
    "                  color=t[\"color\"],\n",
    "                  label=t.get(\"label\"),\n",
    "              )\n",
    "              x= df[t[\"x\"]]\n",
    "              label=t.get(\"label\")\n",
    "              print(f\"Longitud de {label}: \" + str(len(x)))\n",
    "        if any(t.get(\"label\") for t in traces):\n",
    "            plt.legend()\n",
    "        plt.title(title)\n",
    "        plt.axhline(y=0.1, color='blue', linestyle='--', linewidth=1.2)\n",
    "        plt.xlabel(xlabel)\n",
    "        plt.ylabel(ylabel)\n",
    "        plt.tight_layout()\n",
    "        plt.grid(True)\n",
    "        plt.show()\n",
    "        fig.savefig(name+\".svg\",format=\"svg\")\n",
    "        fig.savefig(name+\".pdf\", format=\"pdf\")\n",
    "        return self.grp\n",
    "    def plot_scatter(\n",
    "    self,\n",
    "    traces: list[dict],\n",
    "    title: str,\n",
    "    xlabel: str,\n",
    "    ylabel: str,\n",
    "    figsize: tuple[int, int] = (4, 3),\n",
    "):\n",
    "      plt.figure(figsize=figsize)\n",
    "\n",
    "      for t in traces:\n",
    "          # Selecciona el DataFrame adecuado\n",
    "          if t[\"tipo\"] in self.grp:\n",
    "              df = self.grp[t[\"tipo\"]]\n",
    "          else:\n",
    "              df = self.raw[t[\"tipo\"]]\n",
    "\n",
    "          plt.scatter(\n",
    "              df[t[\"x\"]],\n",
    "              df[t[\"y\"]],\n",
    "              color=t.get(\"color\", \"k\"),\n",
    "              marker=t.get(\"marker\", \"o\"),\n",
    "              label=t.get(\"label\")\n",
    "          )\n",
    "\n",
    "      if any(t.get(\"label\") for t in traces):\n",
    "          plt.legend()\n",
    "\n",
    "      plt.axhline(y=0.1, color='red', linestyle='--', linewidth=1.2)\n",
    "\n",
    "      plt.title(title)\n",
    "      plt.xlabel(xlabel)\n",
    "      plt.ylabel(ylabel)\n",
    "      plt.grid(True)\n",
    "      plt.tight_layout()\n",
    "      plt.show()\n"
   ]
  },
  {
   "cell_type": "markdown",
   "metadata": {
    "id": "vqP5d7unDDh-"
   },
   "source": [
    "# **Main**"
   ]
  },
  {
   "cell_type": "code",
   "execution_count": 7,
   "metadata": {
    "colab": {
     "background_save": true,
     "base_uri": "https://localhost:8080/",
     "height": 1000
    },
    "executionInfo": {
     "elapsed": 34584,
     "status": "ok",
     "timestamp": 1756226756699,
     "user": {
      "displayName": "Juan Sebastian Caviedes Bernal",
      "userId": "02109732275110835414"
     },
     "user_tz": 0
    },
    "id": "eBzW9VCsDBHz"
   },
   "outputs": [
    {
     "name": "stdout",
     "output_type": "stream",
     "text": [
      "Longitud de SARSA n-steps: 0\n",
      "Longitud de SARSA: 0\n"
     ]
    },
    {
     "data": {
      "image/png": "[encoded data removed]",
      "text/plain": [
       "<Figure size 400x300 with 1 Axes>"
      ]
     },
     "metadata": {},
     "output_type": "display_data"
    },
    {
     "name": "stdout",
     "output_type": "stream",
     "text": [
      "Longitud de SARSA n-steps: 0\n",
      "Longitud de SARSA: 0\n"
     ]
    },
    {
     "data": {
      "image/png": "[encoded data removed]",
      "text/plain": [
       "<Figure size 400x300 with 1 Axes>"
      ]
     },
     "metadata": {},
     "output_type": "display_data"
    },
    {
     "name": "stdout",
     "output_type": "stream",
     "text": [
      "Longitud de SARSA n-steps: 0\n",
      "Longitud de SARSA: 0\n"
     ]
    },
    {
     "data": {
      "image/png": "[encoded data removed]",
      "text/plain": [
       "<Figure size 400x300 with 1 Axes>"
      ]
     },
     "metadata": {},
     "output_type": "display_data"
    },
    {
     "name": "stdout",
     "output_type": "stream",
     "text": [
      "Longitud de SARSA n-steps: 0\n",
      "Longitud de SARSA: 0\n"
     ]
    },
    {
     "data": {
      "image/png": "[encoded data removed]",
      "text/plain": [
       "<Figure size 400x300 with 1 Axes>"
      ]
     },
     "metadata": {},
     "output_type": "display_data"
    }
   ],
   "source": [
    "if __name__ == \"__main__\":\n",
    "    # Define las carpetas donde buscar CSVs\n",
    "    carpetas = [\n",
    "        \"/content/drive/MyDrive/Análisis de datos\",\n",
    "        \"/content/drive/MyDrive/Reinforcement Learning Multiplicadores/Análisis de datos/Métricas OpenLane\",\n",
    "        \"/content/drive/MyDrive/Reinforcement Learning Multiplicadores/Análisis de datos/\",\n",
    "        \"/content/drive/MyDrive/Reinforcement Learning Multiplicadores/Análisis de datos/Métricas OpenLane/Métricas - Verilogs Únicos\"\n",
    "    ]\n",
    "\n",
    "    # Rutas de los logs\n",
    "    log_folders_nada = [\n",
    "        \"/content/drive/MyDrive/Reinforcement Learning Multiplicadores/Análisis de datos/Logs Iniciales/Workers Dependientes SIN ruido SIN ventaja/SARSA n-steps\",\n",
    "        #\"/content/drive/MyDrive/Reinforcement Learning Multiplicadores/Análisis de datos/Logs Iniciales/Workers Dependientes SIN ruido SIN ventaja/Q-Learning\",\n",
    "        \"/content/drive/MyDrive/Reinforcement Learning Multiplicadores/Análisis de datos/Logs Iniciales/Workers Dependientes SIN ruido SIN ventaja/SARSA\"\n",
    "    ]\n",
    "\n",
    "    log_folders_ruido = [\n",
    "        \"/content/drive/MyDrive/Reinforcement Learning Multiplicadores/Análisis de datos/Logs Iniciales/Workers Dependientes CON ruido SIN ventaja/SARSA n-steps\",\n",
    "        #\"/content/drive/MyDrive/Reinforcement Learning Multiplicadores/Análisis de datos/Logs Iniciales/Workers Dependientes CON ruido SIN ventaja/Q-Learning\",\n",
    "        \"/content/drive/MyDrive/Reinforcement Learning Multiplicadores/Análisis de datos/Logs Iniciales/Workers Dependientes CON ruido SIN ventaja/SARSA\"\n",
    "    ]\n",
    "\n",
    "    log_folders_ventaja = [\n",
    "        \"/content/drive/MyDrive/Reinforcement Learning Multiplicadores/Análisis de datos/Logs Iniciales/Workers Dependientes SIN ruido CON ventaja/SARSA n-steps\",\n",
    "        #\"/content/drive/MyDrive/Reinforcement Learning Multiplicadores/Análisis de datos/Logs Iniciales/Workers Dependientes SIN ruido CON ventaja/Q-Learning\",\n",
    "        \"/content/drive/MyDrive/Reinforcement Learning Multiplicadores/Análisis de datos/Logs Iniciales/Workers Dependientes SIN ruido CON ventaja/SARSA\"\n",
    "    ]\n",
    "\n",
    "\n",
    "    log_folders_ventaja_ruido = [\n",
    "        \"/content/drive/MyDrive/Reinforcement Learning Multiplicadores/Análisis de datos/Logs Iniciales/Workers Dependientes CON ruido CON ventaja/SARSA n-steps\",\n",
    "        #\"/content/drive/MyDrive/Reinforcement Learning Multiplicadores/Análisis de datos/Logs Iniciales/Workers Dependientes CON ruido CON ventaja/Q-Learning\",\n",
    "        \"/content/drive/MyDrive/Reinforcement Learning Multiplicadores/Análisis de datos/Logs Iniciales/Workers Dependientes CON ruido CON ventaja/SARSA\"\n",
    "    ]\n",
    "\n",
    "    def GraficarLogs (log_folders, carpetas,name,titulo):\n",
    "\n",
    "      analyzer = OpenLaneAnalyzer(carpetas)\n",
    "      plotter = Plotter(analyzer)\n",
    "      # Lista para trazas de episodios vs error\n",
    "      trazas_ep_vs_err = []\n",
    "      color_map = [\"red\", \"green\", \"blue\"]\n",
    "\n",
    "      # Para cada carpeta de logs, creamos un LogAnalyzer y graficamos\n",
    "      for i, ruta in enumerate(log_folders):\n",
    "          # Obtener un nombre corto para etiquetas (último segmento de la ruta)\n",
    "          nombre = os.path.basename(ruta)\n",
    "\n",
    "          log_analyzer = LogAnalyzer([ruta], nombre)\n",
    "          plotter.raw[f\"Logs_{nombre}\"] = log_analyzer.raw_df\n",
    "\n",
    "          #last_row = log_analyzer.summary[f'Logs_{nombre}_Summary'].iloc[-1]\n",
    "          #last_row['episode'] = 100000\n",
    "          #log_analyzer.summary[f'Logs_{nombre}_Summary'] = pd.concat([log_analyzer.summary[f'Logs_{nombre}_Summary'] , pd.DataFrame([last_row])], ignore_index=True)\n",
    "          # 1. Cargamos el DataFrame\n",
    "          df = log_analyzer.summary[f'Logs_{nombre}_Summary']\n",
    "\n",
    "          # 2. Filtramos solo los episodios distintos de 0 y reajustamos el índice\n",
    "          df = df[df['episode'] != 0].reset_index(drop=True)\n",
    "\n",
    "          # 3. Asignamos el resultado de vuelta\n",
    "          log_analyzer.summary[f'Logs_{nombre}_Summary'] = df\n",
    "          #print(log_analyzer.summary[f'Logs_{nombre}_Summary'])\n",
    "\n",
    "          plotter.grp.update(log_analyzer.summary)\n",
    "          plotter.summary.update(log_analyzer.summary)\n",
    "\n",
    "        # Añadir traza a la lista para comparativa\n",
    "          trazas_ep_vs_err.append({\n",
    "              \"tipo\": f\"Logs_{nombre}_Summary\",\n",
    "              \"x\": \"episode\",\n",
    "              \"y\": \"error_mean\",\n",
    "              \"color\": color_map[i % len(color_map)],\n",
    "              \"label\": nombre\n",
    "          })\n",
    "      df=plotter.plot_lines(\n",
    "        traces=trazas_ep_vs_err,\n",
    "        title=titulo,\n",
    "        xlabel=\"Episodes\",\n",
    "        ylabel=\"Minimum Error\",\n",
    "        log = True,\n",
    "        name=name\n",
    "      )\n",
    "      return df\n",
    "\n",
    "    Absolute_Cooperation=GraficarLogs(log_folders_nada, carpetas,name=\"graf_nada\",titulo=\"Absolute Cooperation\")\n",
    "    Absolute_Cooperation_with_Noise=GraficarLogs(log_folders_ruido, carpetas,name=\"graf_ruido\",titulo=\"Absolute Cooperation with Noise\")\n",
    "    Cooperation_under_Advantage=GraficarLogs(log_folders_ventaja, carpetas,name=\"graf_ventaja\",titulo=\"Cooperation under Advantage\")\n",
    "    Cooperation_under_Advantage_with_Noise=GraficarLogs(log_folders_ventaja_ruido, carpetas,name=\"graf_ventaja_ruido\",titulo=\"Cooperation under Advantage with Noise\")"
   ]
  },
  {
   "cell_type": "code",
   "execution_count": 8,
   "metadata": {
    "colab": {
     "background_save": true,
     "base_uri": "https://localhost:8080/",
     "height": 300
    },
    "executionInfo": {
     "elapsed": 83,
     "status": "ok",
     "timestamp": 1756226756815,
     "user": {
      "displayName": "Juan Sebastian Caviedes Bernal",
      "userId": "02109732275110835414"
     },
     "user_tz": 0
    },
    "id": "9uXDKTZ5DmC3"
   },
   "outputs": [
    {
     "ename": "IndexError",
     "evalue": "single positional indexer is out-of-bounds",
     "output_type": "error",
     "traceback": [
      "\u001b[31m---------------------------------------------------------------------------\u001b[39m",
      "\u001b[31mIndexError\u001b[39m                                Traceback (most recent call last)",
      "\u001b[36mCell\u001b[39m\u001b[36m \u001b[39m\u001b[32mIn[8]\u001b[39m\u001b[32m, line 30\u001b[39m\n\u001b[32m     28\u001b[39m \u001b[38;5;66;03m# --- 2. AUC discreta (suma trapecio normalizada) ---\u001b[39;00m\n\u001b[32m     29\u001b[39m auc = np.trapezoid(df[\u001b[33m\"\u001b[39m\u001b[33merror_mean\u001b[39m\u001b[33m\"\u001b[39m], df[\u001b[33m\"\u001b[39m\u001b[33mepisode\u001b[39m\u001b[33m\"\u001b[39m])\n\u001b[32m---> \u001b[39m\u001b[32m30\u001b[39m auc_norm = auc / (\u001b[43mdf\u001b[49m\u001b[43m[\u001b[49m\u001b[33;43m\"\u001b[39;49m\u001b[33;43mepisode\u001b[39;49m\u001b[33;43m\"\u001b[39;49m\u001b[43m]\u001b[49m\u001b[43m.\u001b[49m\u001b[43miloc\u001b[49m\u001b[43m[\u001b[49m\u001b[43m-\u001b[49m\u001b[32;43m1\u001b[39;49m\u001b[43m]\u001b[49m - df[\u001b[33m\"\u001b[39m\u001b[33mepisode\u001b[39m\u001b[33m\"\u001b[39m].iloc[\u001b[32m0\u001b[39m])\n\u001b[32m     32\u001b[39m \u001b[38;5;66;03m# --- 3. Error Final (último 10%) ---\u001b[39;00m\n\u001b[32m     33\u001b[39m tail_start = \u001b[38;5;28mint\u001b[39m(\u001b[38;5;28mlen\u001b[39m(df) * (\u001b[32m1\u001b[39m - tail_frac))\n",
      "\u001b[36mFile \u001b[39m\u001b[32m~/Documents/GitHub/Reinforcement-Learning-Enhanced-Design-Space-Exploration-for-Digital-Multipliers/Mondacera/lib/python3.12/site-packages/pandas/core/indexing.py:1191\u001b[39m, in \u001b[36m_LocationIndexer.__getitem__\u001b[39m\u001b[34m(self, key)\u001b[39m\n\u001b[32m   1189\u001b[39m maybe_callable = com.apply_if_callable(key, \u001b[38;5;28mself\u001b[39m.obj)\n\u001b[32m   1190\u001b[39m maybe_callable = \u001b[38;5;28mself\u001b[39m._check_deprecated_callable_usage(key, maybe_callable)\n\u001b[32m-> \u001b[39m\u001b[32m1191\u001b[39m \u001b[38;5;28;01mreturn\u001b[39;00m \u001b[38;5;28;43mself\u001b[39;49m\u001b[43m.\u001b[49m\u001b[43m_getitem_axis\u001b[49m\u001b[43m(\u001b[49m\u001b[43mmaybe_callable\u001b[49m\u001b[43m,\u001b[49m\u001b[43m \u001b[49m\u001b[43maxis\u001b[49m\u001b[43m=\u001b[49m\u001b[43maxis\u001b[49m\u001b[43m)\u001b[49m\n",
      "\u001b[36mFile \u001b[39m\u001b[32m~/Documents/GitHub/Reinforcement-Learning-Enhanced-Design-Space-Exploration-for-Digital-Multipliers/Mondacera/lib/python3.12/site-packages/pandas/core/indexing.py:1752\u001b[39m, in \u001b[36m_iLocIndexer._getitem_axis\u001b[39m\u001b[34m(self, key, axis)\u001b[39m\n\u001b[32m   1749\u001b[39m     \u001b[38;5;28;01mraise\u001b[39;00m \u001b[38;5;167;01mTypeError\u001b[39;00m(\u001b[33m\"\u001b[39m\u001b[33mCannot index by location index with a non-integer key\u001b[39m\u001b[33m\"\u001b[39m)\n\u001b[32m   1751\u001b[39m \u001b[38;5;66;03m# validate the location\u001b[39;00m\n\u001b[32m-> \u001b[39m\u001b[32m1752\u001b[39m \u001b[38;5;28;43mself\u001b[39;49m\u001b[43m.\u001b[49m\u001b[43m_validate_integer\u001b[49m\u001b[43m(\u001b[49m\u001b[43mkey\u001b[49m\u001b[43m,\u001b[49m\u001b[43m \u001b[49m\u001b[43maxis\u001b[49m\u001b[43m)\u001b[49m\n\u001b[32m   1754\u001b[39m \u001b[38;5;28;01mreturn\u001b[39;00m \u001b[38;5;28mself\u001b[39m.obj._ixs(key, axis=axis)\n",
      "\u001b[36mFile \u001b[39m\u001b[32m~/Documents/GitHub/Reinforcement-Learning-Enhanced-Design-Space-Exploration-for-Digital-Multipliers/Mondacera/lib/python3.12/site-packages/pandas/core/indexing.py:1685\u001b[39m, in \u001b[36m_iLocIndexer._validate_integer\u001b[39m\u001b[34m(self, key, axis)\u001b[39m\n\u001b[32m   1683\u001b[39m len_axis = \u001b[38;5;28mlen\u001b[39m(\u001b[38;5;28mself\u001b[39m.obj._get_axis(axis))\n\u001b[32m   1684\u001b[39m \u001b[38;5;28;01mif\u001b[39;00m key >= len_axis \u001b[38;5;129;01mor\u001b[39;00m key < -len_axis:\n\u001b[32m-> \u001b[39m\u001b[32m1685\u001b[39m     \u001b[38;5;28;01mraise\u001b[39;00m \u001b[38;5;167;01mIndexError\u001b[39;00m(\u001b[33m\"\u001b[39m\u001b[33msingle positional indexer is out-of-bounds\u001b[39m\u001b[33m\"\u001b[39m)\n",
      "\u001b[31mIndexError\u001b[39m: single positional indexer is out-of-bounds"
     ]
    }
   ],
   "source": [
    "import pandas as pd\n",
    "import numpy as np\n",
    "\n",
    "# ------------ CONFIGURACIÓN ------------\n",
    "input=[Absolute_Cooperation, Absolute_Cooperation_with_Noise,\n",
    "       Cooperation_under_Advantage, Cooperation_under_Advantage_with_Noise]\n",
    "\n",
    "names=[\"Absolute_Cooperation\", \"Absolute_Cooperation_with_Noise\",\n",
    "       \"Cooperation_under_Advantage\", \"Cooperation_under_Advantage_with_Noise\"]\n",
    "\n",
    "epsilon = 0.1   # Umbral para First Hitting Time\n",
    "tail_frac = 0.1 # Último 10% de episodios para error final\n",
    "# ---------------------------------------\n",
    "\n",
    "metrics_list = []\n",
    "\n",
    "for w, k in enumerate(input):          # cada escenario\n",
    "    for i, j in enumerate(k.keys()):   # cada worker o estrategia\n",
    "        if i % 2 == 0:  # filtra los índices pares como hacías tú\n",
    "            df = k[j][[\"episode\", \"error_mean\"]].reset_index(drop=True)\n",
    "\n",
    "            # --- 1. First Hitting Time (FHT) ---\n",
    "            fht = np.nan\n",
    "            mask = df[\"error_mean\"] <= epsilon\n",
    "            if mask.any():\n",
    "                fht = df.loc[mask, \"episode\"].iloc[0]  # primer episodio que cruza epsilon\n",
    "\n",
    "            # --- 2. AUC discreta (suma trapecio normalizada) ---\n",
    "            auc = np.trapezoid(df[\"error_mean\"], df[\"episode\"])\n",
    "            auc_norm = auc / (df[\"episode\"].iloc[-1] - df[\"episode\"].iloc[0])\n",
    "\n",
    "            # --- 3. Error Final (último 10%) ---\n",
    "            tail_start = int(len(df) * (1 - tail_frac))\n",
    "            error_final = df[\"error_mean\"].iloc[tail_start:].mean()\n",
    "\n",
    "            # --- 4. Mejoras Globales ---\n",
    "            best_so_far = float(\"inf\")\n",
    "            improvements = 0\n",
    "            for val in df[\"error_mean\"]:\n",
    "                if val < best_so_far:\n",
    "                    improvements += 1\n",
    "                    best_so_far = val\n",
    "\n",
    "            # Guardar resultados\n",
    "            metrics_list.append({\n",
    "                \"Scenario\": names[w],\n",
    "                \"Worker\": j,\n",
    "                \"FHT\": fht,\n",
    "                \"AUC_norm\": auc_norm,\n",
    "                \"Error_final\": error_final,\n",
    "                \"Improvements\": improvements\n",
    "            })\n",
    "\n",
    "# DataFrame con todas las métricas\n",
    "df_metrics = pd.DataFrame(metrics_list)\n",
    "df_metrics.head(10)"
   ]
  },
  {
   "cell_type": "code",
   "execution_count": null,
   "metadata": {
    "colab": {
     "background_save": true,
     "base_uri": "https://localhost:8080/",
     "height": 144
    },
    "executionInfo": {
     "elapsed": 50,
     "status": "error",
     "timestamp": 1756226756882,
     "user": {
      "displayName": "Juan Sebastian Caviedes Bernal",
      "userId": "02109732275110835414"
     },
     "user_tz": 0
    },
    "id": "e8k6Uy7-gf5c"
   },
   "outputs": [],
   "source": [
    "#df_final"
   ]
  },
  {
   "cell_type": "code",
   "execution_count": null,
   "metadata": {
    "colab": {
     "background_save": true
    },
    "executionInfo": {
     "elapsed": 107302,
     "status": "aborted",
     "timestamp": 1756226756832,
     "user": {
      "displayName": "Juan Sebastian Caviedes Bernal",
      "userId": "02109732275110835414"
     },
     "user_tz": 0
    },
    "id": "zLWyXT3OZK7p"
   },
   "outputs": [
    {
     "data": {
      "text/plain": [
       "(14, 2)"
      ]
     },
     "execution_count": 15,
     "metadata": {},
     "output_type": "execute_result"
    }
   ],
   "source": [
    "pd.set_option(\"display.max_rows\", None)  # muestra todas las filas\n",
    "df.shape"
   ]
  },
  {
   "cell_type": "code",
   "execution_count": null,
   "metadata": {
    "colab": {
     "background_save": true
    },
    "executionInfo": {
     "elapsed": 107319,
     "status": "aborted",
     "timestamp": 1756226756849,
     "user": {
      "displayName": "Juan Sebastian Caviedes Bernal",
      "userId": "02109732275110835414"
     },
     "user_tz": 0
    },
    "id": "sXAR_npBcJd5"
   },
   "outputs": [
    {
     "name": "stdout",
     "output_type": "stream",
     "text": [
      "    episode  error_mean\n",
      "0         1    0.700000\n",
      "1         2    0.550000\n",
      "2         6    0.488889\n",
      "3        14    0.486111\n",
      "4        25    0.304167\n",
      "5       244    0.294444\n",
      "6       597    0.283333\n",
      "7       678    0.236111\n",
      "8      1409    0.225000\n",
      "9      2568    0.200000\n",
      "10     3379    0.183333\n",
      "11     7684    0.127778\n",
      "12    10120    0.105556\n",
      "13    27617    0.050000\n"
     ]
    }
   ],
   "source": [
    "df=Cooperation_under_Advantage_with_Noise['Logs_SARSA_Summary']\n",
    "mask = df['error_mean'].cummin() == df['error_mean']\n",
    "# Aplicar la máscara para filtrar el DataFrame\n",
    "df= df[mask].reset_index(drop=True)\n",
    "print(df)"
   ]
  }
 ],
 "metadata": {
  "colab": {
   "name": "",
   "provenance": [
    {
     "file_id": "1GYvm68doXFe0_bLwFO81wPSIGN2el8TX",
     "timestamp": 1753934214714
    }
   ],
   "version": ""
  },
  "kernelspec": {
   "display_name": "Mondacera (3.12.3)",
   "language": "python",
   "name": "python3"
  },
  "language_info": {
   "codemirror_mode": {
    "name": "ipython",
    "version": 3
   },
   "file_extension": ".py",
   "mimetype": "text/x-python",
   "name": "python",
   "nbconvert_exporter": "python",
   "pygments_lexer": "ipython3",
   "version": "3.12.3"
  }
 },
 "nbformat": 4,
 "nbformat_minor": 0
}
